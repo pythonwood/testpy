{
 "cells": [
  {
   "cell_type": "code",
   "execution_count": 1,
   "metadata": {},
   "outputs": [],
   "source": [
    "#! /usr/bin/env python3\n",
    "\n",
    "import os\n",
    "import sys\n",
    "\n",
    "_map = {\n",
    "    0: ''    ,\n",
    "    1: ''    ,\n",
    "    2: 'ABC' ,\n",
    "    3: 'DEF' ,\n",
    "    4: 'GHI' ,\n",
    "    5: 'JKL' ,\n",
    "    6: 'MNO' ,\n",
    "    7: 'PQRS',\n",
    "    8: 'TUV' ,\n",
    "    9: 'WXYZ',\n",
    "}\n",
    "\n",
    "_err_input = 'input data need to be number arry'\n",
    "\n",
    "log = False # True\n",
    "\n",
    "def main(arr):\n",
    "    global _map\n",
    "    result = ['']\n",
    "    if log: print('main() arr', arr)\n",
    "    if not all(isinstance(i, int) and 0<= i <= 9 for i in arr):\n",
    "        print(_err_input)\n",
    "        return result\n",
    "    for i in arr:\n",
    "        if i in [0,1]: continue\n",
    "        _result = []\n",
    "        for c in _map[i].lower():\n",
    "            for now in result:\n",
    "                _result.append(now+c)\n",
    "        result = _result\n",
    "        if log: print('main() forloop', i, result)\n",
    "    return result\n",
    "\n",
    "def mainprint(arr):\n",
    "    result = main(arr)\n",
    "    print(' '.join(result))\n"
   ]
  },
  {
   "cell_type": "code",
   "execution_count": 2,
   "metadata": {},
   "outputs": [
    {
     "name": "stdout",
     "output_type": "stream",
     "text": [
      "ad bd cd ae be ce af bf cf\n"
     ]
    }
   ],
   "source": [
    "mainprint([2,3])"
   ]
  },
  {
   "cell_type": "code",
   "execution_count": 3,
   "metadata": {},
   "outputs": [
    {
     "name": "stdout",
     "output_type": "stream",
     "text": [
      "a b c\n"
     ]
    }
   ],
   "source": [
    "mainprint([2])"
   ]
  },
  {
   "cell_type": "code",
   "execution_count": 4,
   "metadata": {},
   "outputs": [
    {
     "name": "stdout",
     "output_type": "stream",
     "text": [
      "a b c\n"
     ]
    }
   ],
   "source": [
    "mainprint([1,2])"
   ]
  },
  {
   "cell_type": "code",
   "execution_count": 5,
   "metadata": {},
   "outputs": [
    {
     "name": "stdout",
     "output_type": "stream",
     "text": [
      "gg hg ig gh hh ih gi hi ii\n"
     ]
    }
   ],
   "source": [
    "mainprint([4,4])"
   ]
  },
  {
   "cell_type": "code",
   "execution_count": null,
   "metadata": {},
   "outputs": [],
   "source": []
  }
 ],
 "metadata": {
  "kernelspec": {
   "display_name": "Python 3",
   "language": "python",
   "name": "python3"
  },
  "language_info": {
   "codemirror_mode": {
    "name": "ipython",
    "version": 3
   },
   "file_extension": ".py",
   "mimetype": "text/x-python",
   "name": "python",
   "nbconvert_exporter": "python",
   "pygments_lexer": "ipython3",
   "version": "3.6.9"
  }
 },
 "nbformat": 4,
 "nbformat_minor": 4
}
